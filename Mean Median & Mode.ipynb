{
 "cells": [
  {
   "cell_type": "markdown",
   "metadata": {},
   "source": [
    "# Mean, Median, Mode"
   ]
  },
  {
   "cell_type": "markdown",
   "metadata": {},
   "source": [
    "## Mean vs. Median"
   ]
  },
  {
   "cell_type": "markdown",
   "metadata": {},
   "source": [
    "Let's create some fake income data, centered around 27,000 with a normal distribution and standard deviation of 15,000, with 10,000 data points. (We'll discuss those terms more later, if you're not familiar with them.)\n",
    "\n",
    "Then, compute the mean (average) - it should be close to 27,000:"
   ]
  },
  {
   "cell_type": "code",
   "execution_count": 1,
   "metadata": {},
   "outputs": [
    {
     "data": {
      "text/plain": [
       "27085.73045599245"
      ]
     },
     "execution_count": 1,
     "metadata": {},
     "output_type": "execute_result"
    }
   ],
   "source": [
    "import numpy as np\n",
    "\n",
    "incomes = np.random.normal(27000, 15000, 10000)\n",
    "np.mean(incomes)"
   ]
  },
  {
   "cell_type": "markdown",
   "metadata": {},
   "source": [
    "We can segment the income data into 50 buckets, and plot it as a histogram:"
   ]
  },
  {
   "cell_type": "code",
   "execution_count": 4,
   "metadata": {},
   "outputs": [
    {
     "data": {
      "image/png": "[encoded data removed]",
      "text/plain": [
       "<Figure size 640x480 with 1 Axes>"
      ]
     },
     "metadata": {},
     "output_type": "display_data"
    }
   ],
   "source": [
    "%matplotlib inline\n",
    "import matplotlib.pyplot as plt\n",
    "plt.hist(incomes, 50)\n",
    "plt.show()"
   ]
  },
  {
   "cell_type": "markdown",
   "metadata": {},
   "source": [
    "Now compute the median - since we have a nice, even distribution it too should be close to 27,000:"
   ]
  },
  {
   "cell_type": "code",
   "execution_count": 7,
   "metadata": {},
   "outputs": [
    {
     "data": {
      "text/plain": [
       "27180.70566244271"
      ]
     },
     "execution_count": 7,
     "metadata": {},
     "output_type": "execute_result"
    }
   ],
   "source": [
    "np.median(incomes)"
   ]
  },
  {
   "cell_type": "markdown",
   "metadata": {},
   "source": [
    "Now we'll add Jeff Bezos income as an outlier !!"
   ]
  },
  {
   "cell_type": "code",
   "execution_count": 6,
   "metadata": {},
   "outputs": [],
   "source": [
    "incomes = np.append(incomes, [1000000000])"
   ]
  },
  {
   "cell_type": "markdown",
   "metadata": {},
   "source": [
    "The median won't change much, but the mean does:"
   ]
  },
  {
   "cell_type": "code",
   "execution_count": 8,
   "metadata": {},
   "outputs": [
    {
     "data": {
      "text/plain": [
       "27180.70566244271"
      ]
     },
     "execution_count": 8,
     "metadata": {},
     "output_type": "execute_result"
    }
   ],
   "source": [
    "np.median(incomes)"
   ]
  },
  {
   "cell_type": "code",
   "execution_count": 9,
   "metadata": {},
   "outputs": [
    {
     "data": {
      "text/plain": [
       "127073.02315367709"
      ]
     },
     "execution_count": 9,
     "metadata": {},
     "output_type": "execute_result"
    }
   ],
   "source": [
    "np.mean(incomes)"
   ]
  },
  {
   "cell_type": "markdown",
   "metadata": {},
   "source": [
    "## Mode"
   ]
  },
  {
   "cell_type": "markdown",
   "metadata": {},
   "source": [
    "Next, let's generate some fake age data for 500 people:"
   ]
  },
  {
   "cell_type": "code",
   "execution_count": 11,
   "metadata": {},
   "outputs": [
    {
     "data": {
      "text/plain": [
       "array([43, 77, 44, 61, 80, 40, 26, 24, 87, 20, 47, 77, 40, 73, 54, 59, 65,\n",
       "       21, 37, 75, 44, 61, 37, 71, 26, 76, 79, 54, 79, 60, 69, 36, 65, 38,\n",
       "       64, 89, 27, 39, 78, 60, 74, 33, 19, 48, 50, 65, 34, 28, 64, 46, 56,\n",
       "       20, 25, 33, 64, 82, 53, 54, 69, 56, 89, 79, 24, 73, 72, 64, 60, 68,\n",
       "       44, 72, 84, 69, 18, 33, 60, 52, 29, 46, 52, 29, 51, 77, 85, 28, 51,\n",
       "       84, 84, 37, 27, 41, 29, 35, 77, 76, 58, 75, 39, 61, 78, 70, 89, 50,\n",
       "       42, 52, 20, 70, 66, 61, 60, 89, 35, 84, 23, 63, 68, 23, 50, 56, 35,\n",
       "       24, 72, 41, 22, 80, 81, 33, 51, 47, 72, 29, 42, 30, 72, 28, 52, 21,\n",
       "       61, 23, 47, 35, 87, 27, 48, 23, 21, 59, 30, 48, 73, 64, 59, 57, 64,\n",
       "       88, 38, 85, 73, 34, 51, 78, 70, 37, 56, 30, 67, 74, 70, 52, 75, 57,\n",
       "       18, 88, 87, 89, 89, 76, 66, 34, 53, 80, 40, 84, 41, 47, 51, 47, 37,\n",
       "       43, 59, 50, 86, 45, 34, 19, 54, 55, 21, 86, 41, 78, 54, 39, 59, 57,\n",
       "       67, 68, 58, 77, 43, 61, 27, 59, 74, 62, 24, 82, 86, 41, 65, 79, 18,\n",
       "       61, 33, 51, 29, 82, 70, 29, 81, 55, 59, 70, 53, 47, 57, 43, 68, 19,\n",
       "       29, 69, 67, 84, 88, 54, 47, 41, 81, 69, 70, 61, 74, 68, 72, 86, 77,\n",
       "       38, 61, 38, 37, 65, 65, 40, 77, 69, 34, 59, 84, 69, 41, 45, 25, 42,\n",
       "       27, 36, 64, 27, 66, 38, 77, 62, 19, 28, 37, 27, 24, 21, 70, 71, 36,\n",
       "       61, 62, 88, 78, 51, 54, 27, 73, 63, 26, 53, 38, 38, 74, 26, 38, 26,\n",
       "       36, 49, 67, 52, 26, 80, 63, 29, 37, 49, 84, 26, 89, 79, 68, 73, 69,\n",
       "       23, 84, 40, 28, 39, 47, 77, 74, 34, 71, 25, 33, 36, 18, 89, 47, 63,\n",
       "       87, 24, 32, 67, 43, 68, 51, 87, 43, 59, 54, 88, 42, 20, 33, 84, 52,\n",
       "       28, 31, 59, 41, 28, 22, 40, 41, 41, 55, 77, 59, 71, 43, 27, 64, 76,\n",
       "       81, 88, 75, 23, 54, 70, 65, 72, 19, 84, 79, 77, 62, 29, 76, 54, 51,\n",
       "       27, 67, 87, 26, 37, 26, 73, 86, 53, 61, 42, 81, 49, 62, 24, 84, 55,\n",
       "       85, 31, 56, 67, 81, 61, 51, 76, 81, 83, 63, 32, 65, 74, 43, 42, 64,\n",
       "       49, 68, 50, 35, 36, 63, 70, 29, 61, 58, 59, 70, 63, 48, 89, 19, 30,\n",
       "       75, 25, 28, 83, 64, 44, 47, 18, 38, 37, 84, 75, 56, 51, 20, 25, 57,\n",
       "       54, 40, 43, 87, 89, 57, 79, 74, 59, 59, 54, 30, 52, 23, 33, 46, 53,\n",
       "       79, 72, 83, 36, 88, 52, 55, 81, 61, 40, 32, 65, 57, 35, 24, 46, 25,\n",
       "       20, 73, 57, 19, 20, 85, 87])"
      ]
     },
     "execution_count": 11,
     "metadata": {},
     "output_type": "execute_result"
    }
   ],
   "source": [
    "ages = np.random.randint(18, high=90, size=500)\n",
    "ages"
   ]
  },
  {
   "cell_type": "code",
   "execution_count": 12,
   "metadata": {},
   "outputs": [
    {
     "data": {
      "text/plain": [
       "ModeResult(mode=59, count=14)"
      ]
     },
     "execution_count": 12,
     "metadata": {},
     "output_type": "execute_result"
    }
   ],
   "source": [
    "from scipy import stats\n",
    "stats.mode(ages)"
   ]
  },
  {
   "cell_type": "markdown",
   "metadata": {},
   "source": [
    "Exercise: Mean & Median Customer Spend"
   ]
  },
  {
   "cell_type": "markdown",
   "metadata": {},
   "source": [
    "Here's some code that will generate some random e-commerce data; just an array of total amount spent per transaction. Select the code block, and hit \"play\" to execute it:"
   ]
  },
  {
   "cell_type": "code",
   "execution_count": 13,
   "metadata": {},
   "outputs": [
    {
     "data": {
      "image/png": "[encoded data removed]",
      "text/plain": [
       "<Figure size 640x480 with 1 Axes>"
      ]
     },
     "metadata": {},
     "output_type": "display_data"
    }
   ],
   "source": [
    "%matplotlib inline\n",
    "import numpy as np\n",
    "import matplotlib.pyplot as plt\n",
    "\n",
    "incomes = np.random.normal(100.0, 20.0, 10000)\n",
    "\n",
    "plt.hist(incomes, 50)\n",
    "plt.show()"
   ]
  },
  {
   "cell_type": "markdown",
   "metadata": {},
   "source": [
    "Now, find the mean and median of this data. In the code block below, write your code, and see if your result makes sense:"
   ]
  },
  {
   "cell_type": "code",
   "execution_count": 14,
   "metadata": {},
   "outputs": [
    {
     "data": {
      "text/plain": [
       "99.90003448714194"
      ]
     },
     "execution_count": 14,
     "metadata": {},
     "output_type": "execute_result"
    }
   ],
   "source": [
    "np.mean(incomes)"
   ]
  },
  {
   "cell_type": "code",
   "execution_count": 15,
   "metadata": {},
   "outputs": [
    {
     "data": {
      "text/plain": [
       "100.03547925333379"
      ]
     },
     "execution_count": 15,
     "metadata": {},
     "output_type": "execute_result"
    }
   ],
   "source": [
    "np.median(incomes)"
   ]
  },
  {
   "cell_type": "markdown",
   "metadata": {},
   "source": [
    "Try playing with the code above to generate different distributions of data, or add outliers to it to see their effect."
   ]
  },
  {
   "cell_type": "code",
   "execution_count": 16,
   "metadata": {},
   "outputs": [],
   "source": [
    "incomes = np.append(incomes, [10000000000])"
   ]
  },
  {
   "cell_type": "code",
   "execution_count": 17,
   "metadata": {},
   "outputs": [
    {
     "data": {
      "text/plain": [
       "999999.9000444827"
      ]
     },
     "execution_count": 17,
     "metadata": {},
     "output_type": "execute_result"
    }
   ],
   "source": [
    "np.mean(incomes)"
   ]
  },
  {
   "cell_type": "code",
   "execution_count": 18,
   "metadata": {},
   "outputs": [
    {
     "data": {
      "text/plain": [
       "100.03662130116446"
      ]
     },
     "execution_count": 18,
     "metadata": {},
     "output_type": "execute_result"
    }
   ],
   "source": [
    "np.median(incomes)"
   ]
  },
  {
   "cell_type": "markdown",
   "metadata": {},
   "source": [
    "From the above result we can conclude that adding outlier will affect the mean but the median remains constant."
   ]
  },
  {
   "cell_type": "code",
   "execution_count": null,
   "metadata": {},
   "outputs": [],
   "source": []
  }
 ],
 "metadata": {
  "kernelspec": {
   "display_name": "Python 3 (ipykernel)",
   "language": "python",
   "name": "python3"
  },
  "language_info": {
   "codemirror_mode": {
    "name": "ipython",
    "version": 3
   },
   "file_extension": ".py",
   "mimetype": "text/x-python",
   "name": "python",
   "nbconvert_exporter": "python",
   "pygments_lexer": "ipython3",
   "version": "3.11.5"
  }
 },
 "nbformat": 4,
 "nbformat_minor": 1
}
